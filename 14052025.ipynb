{
 "cells": [
  {
   "cell_type": "markdown",
   "id": "a99aaab7-f295-47ce-a847-de2aad70efa4",
   "metadata": {},
   "source": []
  },
  {
   "cell_type": "code",
   "execution_count": 3,
   "id": "0047c910-519e-4181-826c-09b5ca8a9a3b",
   "metadata": {},
   "outputs": [
    {
     "name": "stdin",
     "output_type": "stream",
     "text": [
      "enter the vale of x: 7\n",
      "enter the vale of y: 7\n"
     ]
    },
    {
     "name": "stdout",
     "output_type": "stream",
     "text": [
      "Addition: 14\n",
      "Subtraction: 0\n",
      "Multiplication: 49\n",
      "Division: 1.0\n"
     ]
    }
   ],
   "source": [
    "'''code for math operations using base class  , with 1st and 2nd derived classs respectively.\n",
    "create an object where derived will be executed and perform multiple operations'''\n",
    "class numbers:\n",
    "    def __init__(self,a,b):\n",
    "        self.a=a\n",
    "        self.b=b\n",
    "class basicops(numbers):\n",
    "    def add(self):\n",
    "        return self.a+self.b\n",
    "    def sub(self):\n",
    "        return self.a-self.b\n",
    "class adops(basicops):\n",
    "    def mul(self):\n",
    "        return self.a*self.b\n",
    "    def div(self):\n",
    "        return self.a/self.b\n",
    "x=int(input(\"enter the vale of x:\"))\n",
    "y=int(input(\"enter the vale of y:\"))\n",
    "calc=adops(x,y)\n",
    "print(\"Addition:\",calc.add())\n",
    "print(\"Subtraction:\",calc.sub())\n",
    "print(\"Multiplication:\",calc.mul())\n",
    "print(\"Division:\",calc.div())"
   ]
  },
  {
   "cell_type": "code",
   "execution_count": 10,
   "id": "053458ba-6be0-4708-b02f-f794c82ab771",
   "metadata": {},
   "outputs": [
    {
     "name": "stdout",
     "output_type": "stream",
     "text": [
      "Student Name: Henry\n",
      "Total Marks: 345\n",
      "Average: 86.25\n",
      "Student Grade: B\n"
     ]
    }
   ],
   "source": [
    "'''code for student grading system , where student base class has to be derived by marks with grades in a multi-level inheritance.\n",
    "Calculate the grade to be allotedf to the student with marks A,B,C,D with >=90,>=70,>=60 or less than 60 respectively.\n",
    "student: Henry \n",
    "marks: [85, 90, 78, 92]\n",
    "calculate and display marks, avg, grade of Henry\n",
    "\n",
    "# Base class\n",
    "class Student:\n",
    "    def __init__(self, name):\n",
    "        self.name = name\n",
    "\n",
    "# Derived class from Student\n",
    "class Marks(Student):\n",
    "    def __init__(self, name, marks):\n",
    "        super().__init__(name)\n",
    "        self.marks = marks\n",
    "\n",
    "    def calculate_average(self):\n",
    "        return sum(self.marks) / len(self.marks)\n",
    "\n",
    "# Further derived class from Marks\n",
    "class Grade(Marks):\n",
    "    def __init__(self, name, marks):\n",
    "        super().__init__(name, marks)\n",
    "        self.average = self.calculate_average()\n",
    "        self.grade = self.calculate_grade()\n",
    "\n",
    "    def calculate_grade(self):\n",
    "        if self.average >= 90:\n",
    "            return 'A'\n",
    "        elif self.average >= 70:\n",
    "            return 'B'\n",
    "        elif self.average >= 60:\n",
    "            return 'C'\n",
    "        else:\n",
    "            return 'D'\n",
    "\n",
    "    def display_result(self):\n",
    "        print(f\"Student Name: {self.name}\")\n",
    "        print(f\"Marks: {self.marks}\")\n",
    "        print(f\"Average: {self.average:.2f}\")\n",
    "        print(f\"Grade: {self.grade}\")\n",
    "\n",
    "# Usage\n",
    "student_marks = [85, 90, 78, 92]\n",
    "henry = Grade(\"Henry\", student_marks)\n",
    "henry.display_result()'''\n",
    "class student:\n",
    "    def __init__(self,name):\n",
    "        self.name=name\n",
    "class marks(student):\n",
    "    def __init__(self,name,marks):\n",
    "        super().__init__(name)\n",
    "        self.marks=marks\n",
    "    def total_marks(self):\n",
    "        return sum(self.marks)\n",
    "class grade(marks):\n",
    "    def average(self):\n",
    "        return self.total_marks()/len(self.marks)\n",
    "    def cal_grade(self):\n",
    "        average=self.average()\n",
    "        if average>=90:\n",
    "            return \"A\"\n",
    "        elif average>=75:\n",
    "            return \"B\"\n",
    "        elif average>=60:\n",
    "            return \"C\"\n",
    "        else:\n",
    "            return \"D\"\n",
    "'''\n",
    "#to give inputs dynamically\n",
    "name=input()\n",
    "subjects=int(input(\"Subjects:\"))\n",
    "marks=[]\n",
    "for i in range(subjects):\n",
    "    marks=float(input(f\"Enter marks for subjects{i+1}:\"))\n",
    "    marks,append(marks)'''\n",
    "student=grade(\"Henry\",[85,90,78,92])\n",
    "print(\"Student Name:\",student.name)\n",
    "print(\"Total Marks:\",student.total_marks())\n",
    "print(\"Average:\",student.average())\n",
    "print(\"Student Grade:\",student.cal_grade())\n"
   ]
  },
  {
   "cell_type": "code",
   "execution_count": 12,
   "id": "40fec0c8-7235-4df1-9bb7-7681933d3213",
   "metadata": {},
   "outputs": [
    {
     "name": "stdout",
     "output_type": "stream",
     "text": [
      "Milo barks!!\n",
      "Kitty meows!!\n"
     ]
    }
   ],
   "source": [
    "#heirarchical inheritance\n",
    "class pet:\n",
    "    def __init__(self,name):\n",
    "        self.name=name\n",
    "    def sound(slef):\n",
    "        print(f\"{selfd.name} makes a sound\")\n",
    "class dog(pet):\n",
    "    def sound(self):\n",
    "        print(f\"{self.name} barks!!\")\n",
    "class cat(pet):\n",
    "    def sound(self):\n",
    "        print(f\"{self.name} meows!!\")\n",
    "d=dog(\"Milo\")\n",
    "c=cat(\"Kitty\")\n",
    "d.sound()\n",
    "c.sound()"
   ]
  },
  {
   "cell_type": "code",
   "execution_count": 22,
   "id": "6e17e263-320d-4654-8f1a-f0cd630fce01",
   "metadata": {},
   "outputs": [
    {
     "name": "stdout",
     "output_type": "stream",
     "text": [
      "Area of Rectangle: 8\n",
      "Area of Circle 47.12388980384689\n",
      "Area of Triangle: 10.0\n"
     ]
    }
   ],
   "source": [
    "'''Hierarchical geometry operations of different shapes area values of all circke , rectangle , triangle derived classes'''\n",
    "import math\n",
    "class shape:\n",
    "    def __init__(self,d1,d2=0):\n",
    "        self.d1=d1\n",
    "        self.d2=d2\n",
    "class rectangle(shape):\n",
    "    def area(self):\n",
    "        return self.d1 * self.d2\n",
    "class circle(shape):\n",
    "    def area(self):\n",
    "        return math.pi * self.d1 * self.d1\n",
    "class triangle(shape):\n",
    "    def area(self):\n",
    "        return 0.5 * self.d1 * self.d2\n",
    "rect=rectangle(2,4)\n",
    "cir=circle(3,5)\n",
    "tri=triangle(4,5)\n",
    "print(\"Area of Rectangle:\",rect.area())\n",
    "print(\"Area of Circle\",cir.area())\n",
    "print(\"Area of Triangle:\",tri.area())"
   ]
  },
  {
   "cell_type": "code",
   "execution_count": 27,
   "id": "fc2d9422-28c8-47f2-9365-99c439dc8c5f",
   "metadata": {},
   "outputs": [
    {
     "name": "stdout",
     "output_type": "stream",
     "text": [
      "Area of Rectangle: 6\n",
      "Area of Circle: 50.26548245743669\n",
      "Area of Triangle: 6.0\n"
     ]
    }
   ],
   "source": [
    "#abstract method\n",
    "from abc import ABC, abstractmethod\n",
    "from math import pi\n",
    "class shape(ABC):\n",
    "    def __init__(self,name):\n",
    "        self.name=name\n",
    "        @abstractmethod\n",
    "        def area(self):\n",
    "            pass\n",
    "class rectangle(shape):\n",
    "    def __init__(self,l,b):\n",
    "        super().__init__(\"rectangle\")\n",
    "        self.l=l\n",
    "        self.b=b\n",
    "    def area(self):\n",
    "        return self.l * self.b\n",
    "class circle(shape):\n",
    "    def __init__(self,r):\n",
    "        super().__init__(\"circle\")\n",
    "        self.r=r\n",
    "    def area(self):   \n",
    "        return pi * self.r * self.r\n",
    "class triangle(shape):\n",
    "    def __init__(self,b,h):\n",
    "        super().__init__(\"triangle\")\n",
    "        self.b=b\n",
    "        self.h=h\n",
    "    def area(self):\n",
    "        return 0.5 * self.b * self.h\n",
    "r=rectangle(2,3)\n",
    "c=circle(4)\n",
    "t=triangle(3,4)\n",
    "print(\"Area of Rectangle:\",r.area())\n",
    "print(\"Area of Circle:\",c.area())\n",
    "print(\"Area of Triangle:\",t.area())\n",
    "        "
   ]
  },
  {
   "cell_type": "code",
   "execution_count": 28,
   "id": "783795f4-7b8d-438b-adc3-788a30ea6b1c",
   "metadata": {},
   "outputs": [
    {
     "name": "stdout",
     "output_type": "stream",
     "text": [
      "Animal Sound\n",
      "Dog barks.....!!\n",
      "Puppy weeps...!!\n"
     ]
    }
   ],
   "source": [
    "#multi-level inheritance \n",
    "class pet:\n",
    "    def sound(self):\n",
    "        print(\"Animal Sound\")\n",
    "class dog(pet):\n",
    "    def bark(self):\n",
    "        print(\"Dog barks.....!!\")\n",
    "class puppy(dog):\n",
    "    def weep(self):\n",
    "        print(\"Puppy weeps...!!\")\n",
    "Puppy=puppy()\n",
    "Puppy.sound()\n",
    "Puppy.bark()\n",
    "Puppy.weep()"
   ]
  },
  {
   "cell_type": "code",
   "execution_count": null,
   "id": "921f5988-be3d-4414-8624-92c056617eca",
   "metadata": {},
   "outputs": [],
   "source": []
  }
 ],
 "metadata": {
  "kernelspec": {
   "display_name": "Python 3 (ipykernel)",
   "language": "python",
   "name": "python3"
  },
  "language_info": {
   "codemirror_mode": {
    "name": "ipython",
    "version": 3
   },
   "file_extension": ".py",
   "mimetype": "text/x-python",
   "name": "python",
   "nbconvert_exporter": "python",
   "pygments_lexer": "ipython3",
   "version": "3.12.7"
  }
 },
 "nbformat": 4,
 "nbformat_minor": 5
}
